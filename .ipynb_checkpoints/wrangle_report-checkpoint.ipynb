{
 "cells": [
  {
   "cell_type": "markdown",
   "metadata": {},
   "source": [
    "## Reporting: wragle_report By Fuad Adebisi"
   ]
  },
  {
   "cell_type": "markdown",
   "metadata": {},
   "source": [
    "## Introduction\n",
    "This Wrangle Report is on the analysis of some tweet data about dog breeds from Twitter user @dog_rates, also known as WeRateDogs.\n",
    "Part of the project involves gathering data from udacity and Twitter using their API, wrangling and then using these data to create analysis about the tweets and the predicted dog’s breed."
   ]
  },
  {
   "cell_type": "markdown",
   "metadata": {},
   "source": [
    "### Steps Followed.\n",
    "The steps followed in this analysis includes\n",
    "* Data Gathering\n",
    "* Data Assessing\n",
    "* Data Cleaning"
   ]
  },
  {
   "cell_type": "markdown",
   "metadata": {},
   "source": [
    "#### Data Gathering\n",
    "The data set used for this project was gathered from udacity. \"twitter_archive_enhanced.csv\", tweet_json and \"image_predictions.tsv\" (image_predictions.tsv was gathered using the Requests Library) from the udacity servers. \n",
    "\n",
    "The twitter_archive_enhanced.csv file contains basic tweet data (tweet ID, timestamp, text, etc.) for 2356 tweets as they stood on August 1, 2017.\n",
    "After loading this data set into a pandas dataframe, I need further information to produce an analysis of good quality.\n",
    "I was required to gather this additional data from Twitter API using the tweepy package. unfortunately, twitter is yet to grant me access to their api. so i got these required data from the tweet_json file provided by udacity."
   ]
  },
  {
   "cell_type": "markdown",
   "metadata": {},
   "source": [
    "#### Assessing\n",
    "\n",
    "Visual Assessment and Programmatic Assessment were the assessment methods used for this project\n",
    "Issues found with the data set included\n",
    "\n",
    "##### Quality issues\n",
    "1. We do not need retweets\n",
    "2. we do not need tweets from beyond August 1st 2017(2017-08-01) \n",
    "3. The column 'source' contains html tags and html elements\n",
    "4. timestamp has wrong datatype\n",
    "5. Drop in_reply_to_status_id and all the irrelevant columns\n",
    "6. missing dog stages. extract the dog stage from the texts\n",
    "7. some columns have their numbers in exponential format\n",
    "8. Non descriptive column names\n",
    "\n",
    "##### Tidiness issues\n",
    "1. Dog stage should form one column\n",
    "2. Rating should form one column"
   ]
  },
  {
   "cell_type": "markdown",
   "metadata": {},
   "source": [
    "#### Cleaning\n",
    "\n",
    "The data set was cleaned in line with the issues above. I began by creating copies of each data data set to prevent data loss or destruction that can occur during the process.\n",
    "\n",
    "I dropped some irrelevant columns, extracted missing data from tweet_json to fill in the affected columns and rows, renamed several columns etc. \n",
    "finally when the cleaning was done, the cleaned data set was stored as \"Twitter_archive_master.csv\""
   ]
  },
  {
   "cell_type": "markdown",
   "metadata": {},
   "source": [
    "### i would like to point out here that i am yet  to receive Authentication from twitter to allow me to make use of their Api. This is a huge challenge for me and it is my hope that the data contained in the alternative tweet_json file from udacity was sufficient for the project."
   ]
  }
 ],
 "metadata": {
  "kernelspec": {
   "display_name": "Python 3 (ipykernel)",
   "language": "python",
   "name": "python3"
  },
  "language_info": {
   "codemirror_mode": {
    "name": "ipython",
    "version": 3
   },
   "file_extension": ".py",
   "mimetype": "text/x-python",
   "name": "python",
   "nbconvert_exporter": "python",
   "pygments_lexer": "ipython3",
   "version": "3.9.12"
  }
 },
 "nbformat": 4,
 "nbformat_minor": 2
}
